{
 "cells": [
  {
   "cell_type": "code",
   "execution_count": 36,
   "id": "791e5cb4",
   "metadata": {},
   "outputs": [],
   "source": [
    "import pandas as pd\n",
    "import numpy as np\n",
    "from sklearn.datasets import make_regression\n",
    "import random\n",
    "from sklearn.model_selection import train_test_split"
   ]
  },
  {
   "cell_type": "code",
   "execution_count": 37,
   "id": "d3b9a0a3",
   "metadata": {},
   "outputs": [],
   "source": [
    "X, y = make_regression(n_samples=50, n_features=20, n_informative=2, noise=5, random_state=42)\n",
    "X = pd.DataFrame(X)\n",
    "y = pd.Series(y)\n",
    "X.columns = [f'col_{col}' for col in X.columns]"
   ]
  },
  {
   "cell_type": "code",
   "execution_count": 58,
   "id": "5c79ea0b",
   "metadata": {},
   "outputs": [],
   "source": [
    "def mse(y):\n",
    "    n = len(y)\n",
    "    y_mean = y.mean()\n",
    "    return ((y-y_mean)**2).mean()"
   ]
  },
  {
   "cell_type": "code",
   "execution_count": 59,
   "id": "a9fa8e94",
   "metadata": {},
   "outputs": [],
   "source": [
    "def msep(y, X, Q):\n",
    "    n = len(y)\n",
    "    y_right = y.loc[X[X>Q].index]\n",
    "    y_left = y.loc[X[X<=Q].index]\n",
    "\n",
    "    mse_left = mse(y_left)\n",
    "    mse_right = mse(y_right)\n",
    "    \n",
    "    n_left = len(y_left)\n",
    "    n_right = len(y_right)\n",
    "    \n",
    "    return mse(y) - (n_left*mse_left/n + n_right*mse_right/n) "
   ]
  },
  {
   "cell_type": "code",
   "execution_count": 50,
   "id": "9e79433c",
   "metadata": {},
   "outputs": [],
   "source": [
    "class TreeNode:\n",
    "    def __init__(self, split_column, split_value, predicted_classes):\n",
    "        self.split_column = split_column\n",
    "        self.split_value = split_value\n",
    "        self.predicted_classes = predicted_classes\n",
    "        self.left = None\n",
    "        self.right = None"
   ]
  },
  {
   "cell_type": "code",
   "execution_count": 85,
   "id": "fcb89abb",
   "metadata": {},
   "outputs": [],
   "source": [
    "class MyTreeReg:\n",
    "    def __init__(self, max_depth=5, min_samples_split=2, max_leafs=20, bins=None):\n",
    "        self.max_depth = max_depth\n",
    "        self.min_samples_split = min_samples_split\n",
    "        self.max_leafs = max_leafs if max_leafs > 1 else 2\n",
    "        self.bins = bins\n",
    "        self.fi = None\n",
    "        \n",
    "    def __str__(self):\n",
    "        return f\"MyTreeClf class: max_depth={self.max_depth}, min_samples_split={self.min_samples_split}, max_leafs={self.max_leafs}\"\n",
    "    \n",
    "    def fit(self,X, y):\n",
    "        self.n = len(y)\n",
    "        self.leafs_cnt = 1\n",
    "        self.fi = {key: 0 for key in X.columns}\n",
    "        if self.bins != None and self.bins < X.shape[0] - 2:\n",
    "            self.bins = self.get_bins(X)\n",
    "        else:\n",
    "            self.bins = None\n",
    "        self.node = self.build_tree(X, y,0)\n",
    "        \n",
    "    def predict(self, X):\n",
    "        self.y_predict = pd.Series(index=X.index)\n",
    "        self.prediction(self.node, X)\n",
    "        return self.y_predict\n",
    "    \n",
    "    def get_bins(self, X):\n",
    "        bins = pd.DataFrame()\n",
    "        for column in X.columns:\n",
    "            sample = np.histogram(X[column], bins=self.bins)[1][1:-1]\n",
    "            bins[column] = sample    \n",
    "        return bins\n",
    "    \n",
    "    def prediction(self, node, X):\n",
    "        if type(node) == np.float64:\n",
    "            self.y_predict[X.index] = node\n",
    "            return\n",
    "        \n",
    "        left_indexes = X[node.split_column] <= node.split_value\n",
    "        right_indexes = X[node.split_column] > node.split_value\n",
    "        self.prediction(node.left, X[left_indexes])\n",
    "        self.prediction(node.right, X[right_indexes])     \n",
    "        \n",
    "    def build_tree(self, X, y, current_depth):\n",
    "        if self.leafs_cnt >= self.max_leafs:\n",
    "            return self.build_leaf(X,y)\n",
    "        \n",
    "        if X.shape[0] <= 1 or len(np.unique(y)) <= 1:\n",
    "            return self.build_leaf(X,y)\n",
    "        \n",
    "        split_column, Q, ig = self.get_best_split(X, y)\n",
    "        node = TreeNode(split_column, Q, -1)\n",
    "        \n",
    "        \n",
    "        if current_depth < self.max_depth and len(y) >= self.min_samples_split:\n",
    "\n",
    "            left_indices = X[split_column] <= Q\n",
    "            right_indices = X[split_column] > Q\n",
    "\n",
    "            X_left = X[left_indices]\n",
    "            y_left = y[left_indices]\n",
    "            X_right = X[right_indices]\n",
    "            y_right = y[right_indices]\n",
    "    \n",
    "            self.leafs_cnt += 1\n",
    "            node.left = self.build_tree(X_left, y_left, current_depth + 1)\n",
    "            node.right = self.build_tree(X_right, y_right, current_depth + 1)\n",
    "            \n",
    "            self.fi[split_column] += X.shape[0]/self.n*(\n",
    "                mse(y) - \n",
    "                len(y_left)/len(y)*mse(y_left) -\n",
    "                len(y_right)/len(y)*mse(y_right)\n",
    "            )\n",
    "            \n",
    "        else:\n",
    "            return self.build_leaf(X,y)\n",
    "        return node\n",
    "    \n",
    "    def build_leaf(self, X, y):\n",
    "        return np.sum(y[X.index]) / len(y[X.index])        \n",
    "    \n",
    "    def get_best_split(self, X, y):\n",
    "        best_ig = 0\n",
    "        best_Q = 0\n",
    "        best_column_name = None\n",
    "        prev_value = None\n",
    "       \n",
    "        if self.bins is None:\n",
    "            for column in X.columns:\n",
    "                column = X[column].sort_values()\n",
    "                for index, value in column.items():\n",
    "                    if prev_value != None:\n",
    "                        Q = (prev_value + value)/2\n",
    "                        ig = msep(y, column, Q)\n",
    "                        if ig > best_ig:\n",
    "                            best_ig = ig\n",
    "                            best_Q = Q\n",
    "                            best_column_name = column.name\n",
    "                    prev_value = value\n",
    "        else:\n",
    "            for column in X.columns:\n",
    "                sample = self.bins[column]\n",
    "                column = X[column]\n",
    "                for Q in sample:\n",
    "                    ig = msep(y, column, Q)\n",
    "                    if ig > best_ig:\n",
    "                        best_ig = ig\n",
    "                        best_Q = Q\n",
    "                        best_column_name = column.name\n",
    "          \n",
    "        return best_column_name, best_Q, best_ig  \n",
    "    \n",
    "    def print_tree(self, node):\n",
    "        if type(node) == np.float64:\n",
    "            print(node)\n",
    "            return\n",
    "        print(node.split_column, node.split_value)\n",
    "        self.print_tree(node.left)\n",
    "        self.print_tree(node.right)"
   ]
  },
  {
   "cell_type": "code",
   "execution_count": 86,
   "id": "2f1841f9",
   "metadata": {},
   "outputs": [],
   "source": [
    "tree = MyTreeReg(5, 5, 10, bins=10)"
   ]
  },
  {
   "cell_type": "code",
   "execution_count": 87,
   "id": "f622535b",
   "metadata": {},
   "outputs": [],
   "source": [
    "tree.fit(X, y)"
   ]
  },
  {
   "cell_type": "code",
   "execution_count": 88,
   "id": "3fe1d7e8",
   "metadata": {},
   "outputs": [
    {
     "name": "stdout",
     "output_type": "stream",
     "text": [
      "col_12 -0.5305322341700651\n",
      "col_3 -1.0787319943443108\n",
      "-51.53357138412902\n",
      "col_12 -1.4040935656111186\n",
      "-26.193740693290327\n",
      "col_4 -0.6398858261592428\n",
      "-2.8460830070482714\n",
      "col_0 1.0875910915842835\n",
      "-15.798094157876667\n",
      "-4.09681180271582\n",
      "col_12 1.2165904287120415\n",
      "col_3 0.10406780302684537\n",
      "col_12 0.3430290972709882\n",
      "col_3 -1.4729985934680294\n",
      "-15.750145202415375\n",
      "-6.55925550638459\n",
      "6.501698112514691\n",
      "17.697987445361417\n",
      "35.38642492999285\n"
     ]
    }
   ],
   "source": [
    "tree.print_tree(tree.node)"
   ]
  },
  {
   "cell_type": "code",
   "execution_count": 89,
   "id": "fb87caea",
   "metadata": {},
   "outputs": [
    {
     "data": {
      "text/plain": [
       "0      6.501698\n",
       "1    -15.798094\n",
       "2    -26.193741\n",
       "3    -15.798094\n",
       "4    -15.798094\n",
       "5     17.697987\n",
       "6     17.697987\n",
       "7     35.386425\n",
       "8     -2.846083\n",
       "9    -15.798094\n",
       "10    35.386425\n",
       "11     6.501698\n",
       "12    17.697987\n",
       "13     6.501698\n",
       "14    17.697987\n",
       "15   -15.750145\n",
       "16    17.697987\n",
       "17    -4.096812\n",
       "18    -6.559256\n",
       "19    35.386425\n",
       "20     6.501698\n",
       "21     6.501698\n",
       "22    35.386425\n",
       "23   -51.533571\n",
       "24    17.697987\n",
       "25    17.697987\n",
       "26     6.501698\n",
       "27   -15.798094\n",
       "28   -26.193741\n",
       "29    17.697987\n",
       "30   -26.193741\n",
       "31     6.501698\n",
       "32   -15.798094\n",
       "33   -15.798094\n",
       "34    -6.559256\n",
       "35    -6.559256\n",
       "36    17.697987\n",
       "37   -15.750145\n",
       "38    35.386425\n",
       "39     6.501698\n",
       "40   -15.798094\n",
       "41    17.697987\n",
       "42     6.501698\n",
       "43    -6.559256\n",
       "44    17.697987\n",
       "45    17.697987\n",
       "46    17.697987\n",
       "47     6.501698\n",
       "48    17.697987\n",
       "49    17.697987\n",
       "dtype: float64"
      ]
     },
     "execution_count": 89,
     "metadata": {},
     "output_type": "execute_result"
    }
   ],
   "source": [
    "tree.predict(X)"
   ]
  },
  {
   "cell_type": "code",
   "execution_count": 90,
   "id": "df2bcaa5",
   "metadata": {},
   "outputs": [
    {
     "data": {
      "text/plain": [
       "{'col_0': 2.4341334889813093,\n",
       " 'col_1': 0,\n",
       " 'col_2': 0,\n",
       " 'col_3': 71.34321292256898,\n",
       " 'col_4': 2.443788781761423,\n",
       " 'col_5': 0,\n",
       " 'col_6': 0,\n",
       " 'col_7': 0,\n",
       " 'col_8': 0,\n",
       " 'col_9': 0,\n",
       " 'col_10': 0,\n",
       " 'col_11': 0,\n",
       " 'col_12': 285.62074290086684,\n",
       " 'col_13': 0,\n",
       " 'col_14': 0,\n",
       " 'col_15': 0,\n",
       " 'col_16': 0,\n",
       " 'col_17': 0,\n",
       " 'col_18': 0,\n",
       " 'col_19': 0}"
      ]
     },
     "execution_count": 90,
     "metadata": {},
     "output_type": "execute_result"
    }
   ],
   "source": [
    "tree.fi"
   ]
  },
  {
   "cell_type": "code",
   "execution_count": null,
   "id": "56d349dc",
   "metadata": {},
   "outputs": [],
   "source": []
  }
 ],
 "metadata": {
  "kernelspec": {
   "display_name": "Python 3 (ipykernel)",
   "language": "python",
   "name": "python3"
  },
  "language_info": {
   "codemirror_mode": {
    "name": "ipython",
    "version": 3
   },
   "file_extension": ".py",
   "mimetype": "text/x-python",
   "name": "python",
   "nbconvert_exporter": "python",
   "pygments_lexer": "ipython3",
   "version": "3.10.10"
  }
 },
 "nbformat": 4,
 "nbformat_minor": 5
}
