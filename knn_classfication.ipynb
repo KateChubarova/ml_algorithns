{
 "cells": [
  {
   "cell_type": "code",
   "execution_count": 560,
   "id": "4a9a7f43",
   "metadata": {},
   "outputs": [],
   "source": [
    "import pandas as pd\n",
    "import numpy as np\n",
    "from sklearn.datasets import make_classification\n",
    "import random\n",
    "from sklearn.model_selection import train_test_split"
   ]
  },
  {
   "cell_type": "code",
   "execution_count": 297,
   "id": "8dc230c5",
   "metadata": {},
   "outputs": [],
   "source": [
    "X, y = make_classification(n_samples=50, n_features=5, n_informative=2, random_state=42)\n",
    "X = pd.DataFrame(X)\n",
    "y = pd.Series(y)\n",
    "X.columns = [f'col_{col}' for col in X.columns]\n",
    "X_train, X_test, y_train, y_test = train_test_split(X, y, test_size=0.2, random_state=42)"
   ]
  },
  {
   "cell_type": "code",
   "execution_count": 530,
   "id": "601ef49a",
   "metadata": {},
   "outputs": [],
   "source": [
    "def euclidean(X_train, X_test):\n",
    "    return np.sqrt(sum((X_test - X_train)**2))    "
   ]
  },
  {
   "cell_type": "code",
   "execution_count": 531,
   "id": "12ca25ed",
   "metadata": {},
   "outputs": [],
   "source": [
    "def manhattan(X_train, X_test):\n",
    "    return sum(abs(X_test-X_train))"
   ]
  },
  {
   "cell_type": "code",
   "execution_count": 541,
   "id": "6be7e383",
   "metadata": {},
   "outputs": [],
   "source": [
    "def chebyshev(X_train, X_test):\n",
    "    return max(abs(X_train - X_test))"
   ]
  },
  {
   "cell_type": "code",
   "execution_count": 551,
   "id": "e5e48a64",
   "metadata": {},
   "outputs": [],
   "source": [
    "def cosine(X_train, X_test):\n",
    "    sqrt_train = np.sqrt(sum(X_train**2))\n",
    "    sqrt_test = np.sqrt(sum(X_test**2)) \n",
    "                        \n",
    "    return 1 - sum(X_train * X_test)/(sqrt_train*sqrt_test)"
   ]
  },
  {
   "cell_type": "code",
   "execution_count": 556,
   "id": "684795fe",
   "metadata": {},
   "outputs": [],
   "source": [
    "class MyKNNClf:\n",
    "    def __init__(self, k=3, metric='euclidean', weight='uniform'):\n",
    "        self.k = k\n",
    "        self.train_size = None\n",
    "        self.metric = globals()[metric]\n",
    "        self.weight = weight\n",
    "        \n",
    "    def __str__(self):\n",
    "        return f\"MyKNNClf class: k={self.k}\"    \n",
    "    \n",
    "    def fit(self, X, y):\n",
    "        self.X = X\n",
    "        self.y = y\n",
    "        self.train_size = X.shape\n",
    "                   \n",
    "    def predict(self, X):\n",
    "        n_samples = X.shape[0]\n",
    "        y_pred = np.ones(n_samples)\n",
    "        for i in range(n_samples):\n",
    "            distances = np.zeros(self.train_size[0])\n",
    "            for j in range(self.train_size[0]):\n",
    "                distances[j] = self.metric(X.iloc[i], self.X.iloc[j])\n",
    "            idx = np.argsort(distances)[:self.k]\n",
    "            \n",
    "            y = self.y.iloc[idx]\n",
    "            mode = self.y.iloc[idx].mode().values\n",
    "            if len(mode) == 1:\n",
    "                y_pred[i] = mode\n",
    "                \n",
    "                \n",
    "        return y_pred.astype(int)\n",
    "    \n",
    "    def predict_proba(self, X):\n",
    "        n_samples = X.shape[0]\n",
    "        y_pred = np.ones(n_samples)\n",
    "        for i in range(n_samples):\n",
    "            distances = np.zeros(self.train_size[0])\n",
    "            for j in range(self.train_size[0]):\n",
    "                distance = self.metric(X.iloc[i], self.X.iloc[j])\n",
    "                distances[j] = distance\n",
    "            idx = np.argsort(distances)[:self.k]\n",
    "            y_pred[i] = sum(self.y.iloc[idx].values)/self.k\n",
    "        return y_pred"
   ]
  },
  {
   "cell_type": "code",
   "execution_count": 557,
   "id": "8cd91f16",
   "metadata": {},
   "outputs": [],
   "source": [
    "knn = MyKNNClf(3)"
   ]
  },
  {
   "cell_type": "code",
   "execution_count": 558,
   "id": "6b0a4439",
   "metadata": {},
   "outputs": [],
   "source": [
    "knn.fit(X_train,y_train)"
   ]
  },
  {
   "cell_type": "code",
   "execution_count": 559,
   "id": "8c679074",
   "metadata": {},
   "outputs": [
    {
     "data": {
      "text/plain": [
       "array([0, 0, 0, 1, 0, 1, 1, 1, 1, 1])"
      ]
     },
     "execution_count": 559,
     "metadata": {},
     "output_type": "execute_result"
    }
   ],
   "source": [
    "knn.predict(X_test)"
   ]
  },
  {
   "cell_type": "code",
   "execution_count": 555,
   "id": "c721383f",
   "metadata": {},
   "outputs": [
    {
     "data": {
      "text/plain": [
       "array([0.        , 0.        , 0.        , 1.        , 0.        ,\n",
       "       1.        , 1.        , 1.        , 1.        , 0.33333333])"
      ]
     },
     "execution_count": 555,
     "metadata": {},
     "output_type": "execute_result"
    }
   ],
   "source": [
    "knn.predict_proba(X_test)"
   ]
  }
 ],
 "metadata": {
  "kernelspec": {
   "display_name": "Python 3 (ipykernel)",
   "language": "python",
   "name": "python3"
  },
  "language_info": {
   "codemirror_mode": {
    "name": "ipython",
    "version": 3
   },
   "file_extension": ".py",
   "mimetype": "text/x-python",
   "name": "python",
   "nbconvert_exporter": "python",
   "pygments_lexer": "ipython3",
   "version": "3.10.10"
  }
 },
 "nbformat": 4,
 "nbformat_minor": 5
}
