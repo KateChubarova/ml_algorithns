{
 "cells": [
  {
   "cell_type": "code",
   "execution_count": 1,
   "id": "509f9eaa",
   "metadata": {},
   "outputs": [],
   "source": [
    "class MyBaggingClf:\n",
    "    def __init__(self, estimator=None, n_estimators=10, max_samples=0.5, random_state=42):\n",
    "        self.estimator = estimator\n",
    "        self.n_estimators = n_estimators\n",
    "        self.max_samples = max_samples\n",
    "        self.random_state = random_state\n",
    "       \n",
    "    def __str__(self):\n",
    "        return f\"MyBaggingClf class: estimator={self.estimator}, n_estimators={self.n_estimators}, max_samples={self.max_samples}, random_state={self.random_state}\""
   ]
  },
  {
   "cell_type": "code",
   "execution_count": null,
   "id": "ba6298fd",
   "metadata": {},
   "outputs": [],
   "source": []
  }
 ],
 "metadata": {
  "kernelspec": {
   "display_name": "Python 3 (ipykernel)",
   "language": "python",
   "name": "python3"
  },
  "language_info": {
   "codemirror_mode": {
    "name": "ipython",
    "version": 3
   },
   "file_extension": ".py",
   "mimetype": "text/x-python",
   "name": "python",
   "nbconvert_exporter": "python",
   "pygments_lexer": "ipython3",
   "version": "3.10.10"
  }
 },
 "nbformat": 4,
 "nbformat_minor": 5
}
