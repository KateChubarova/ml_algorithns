{
 "cells": [
  {
   "cell_type": "code",
   "execution_count": null,
   "id": "2a7c5242",
   "metadata": {},
   "outputs": [],
   "source": [
    "class MyDBSCAN:\n",
    "    \n",
    "    def __init__(self, eps=3, min_samples=3):\n",
    "        self.eps = eps\n",
    "        self.min_samples = min_samples\n",
    "    \n",
    "    def __str__(self):\n",
    "        return f\"MyDBSCAN class: eps={self.eps}, min_samples={}\""
   ]
  }
 ],
 "metadata": {
  "kernelspec": {
   "display_name": "Python 3 (ipykernel)",
   "language": "python",
   "name": "python3"
  },
  "language_info": {
   "codemirror_mode": {
    "name": "ipython",
    "version": 3
   },
   "file_extension": ".py",
   "mimetype": "text/x-python",
   "name": "python",
   "nbconvert_exporter": "python",
   "pygments_lexer": "ipython3",
   "version": "3.10.10"
  }
 },
 "nbformat": 4,
 "nbformat_minor": 5
}
