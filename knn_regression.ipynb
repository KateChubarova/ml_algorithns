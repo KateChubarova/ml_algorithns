{
 "cells": [
  {
   "cell_type": "code",
   "execution_count": 1,
   "id": "0691183d",
   "metadata": {},
   "outputs": [],
   "source": [
    "import pandas as pd\n",
    "import numpy as np\n",
    "from sklearn.datasets import make_regression\n",
    "import random\n",
    "from sklearn.model_selection import train_test_split"
   ]
  },
  {
   "cell_type": "code",
   "execution_count": 24,
   "id": "92e1b5c7",
   "metadata": {},
   "outputs": [],
   "source": [
    "X, y = make_regression(n_samples=50, n_features=5, n_informative=2, noise=5, random_state=42)\n",
    "X = pd.DataFrame(X)\n",
    "y = pd.Series(y)\n",
    "X.columns = [f'col_{col}' for col in X.columns]\n",
    "X_train, X_test, y_train, y_test = train_test_split(X, y, test_size=0.2, random_state=42)"
   ]
  },
  {
   "cell_type": "code",
   "execution_count": 30,
   "id": "e3702f3f",
   "metadata": {},
   "outputs": [],
   "source": [
    "def euclidean(X_train, X_test):\n",
    "    return np.sqrt(sum((X_test - X_train)**2))"
   ]
  },
  {
   "cell_type": "code",
   "execution_count": 31,
   "id": "9e0553ba",
   "metadata": {},
   "outputs": [],
   "source": [
    "def manhattan(X_train, X_test):\n",
    "    return sum(abs(X_test-X_train))"
   ]
  },
  {
   "cell_type": "code",
   "execution_count": 32,
   "id": "a9380932",
   "metadata": {},
   "outputs": [],
   "source": [
    "def chebyshev(X_train, X_test):\n",
    "    return max(abs(X_train - X_test))"
   ]
  },
  {
   "cell_type": "code",
   "execution_count": 33,
   "id": "5193913d",
   "metadata": {},
   "outputs": [],
   "source": [
    "def cosine(X_train, X_test):\n",
    "    sqrt_train = np.sqrt(sum(X_train**2))\n",
    "    sqrt_test = np.sqrt(sum(X_test**2)) \n",
    "                        \n",
    "    return 1 - sum(X_train * X_test)/(sqrt_train+sqrt_test)"
   ]
  },
  {
   "cell_type": "code",
   "execution_count": 39,
   "id": "2d46d5f8",
   "metadata": {},
   "outputs": [],
   "source": [
    "class MyKNNReg:\n",
    "    def __init__(self, k=3, metric='euclidean'):\n",
    "        self.k=k\n",
    "        self.metric = globals()[metric]\n",
    "        \n",
    "    def __str__(self):\n",
    "        return f\"MyKNNReg class: k={self.k}\"     \n",
    "    \n",
    "    def fit(self, X, y):\n",
    "        self.X = X\n",
    "        self.y = y\n",
    "        self.train_size = X.shape\n",
    "        \n",
    "    def predict(self, X):\n",
    "        n_samples = X.shape[0]\n",
    "        y_pred = np.ones(n_samples)\n",
    "        for i in range(n_samples):\n",
    "            distances = np.zeros(self.train_size[0])\n",
    "            for j in range(self.train_size[0]):\n",
    "                distances[j] = self.metric(X.iloc[i], self.X.iloc[j])\n",
    "            idx = np.argsort(distances)[:self.k]\n",
    "            \n",
    "            y = self.y.iloc[idx]\n",
    "            y_pred[i] = self.y.iloc[idx].mean()\n",
    "        return y_pred     "
   ]
  },
  {
   "cell_type": "code",
   "execution_count": 40,
   "id": "15157c01",
   "metadata": {},
   "outputs": [],
   "source": [
    "knn = MyKNNReg(3)"
   ]
  },
  {
   "cell_type": "code",
   "execution_count": 41,
   "id": "eeacee26",
   "metadata": {},
   "outputs": [],
   "source": [
    "knn.fit(X_train, y_train)"
   ]
  },
  {
   "cell_type": "code",
   "execution_count": 42,
   "id": "5879167e",
   "metadata": {},
   "outputs": [
    {
     "data": {
      "text/plain": [
       "array([  9.64639385,  52.39652796,  50.52284562, -17.86069339,\n",
       "       -71.97584191,  -3.20141951,  22.59876192,   7.71650566,\n",
       "       -10.29661187,  53.88765247])"
      ]
     },
     "execution_count": 42,
     "metadata": {},
     "output_type": "execute_result"
    }
   ],
   "source": [
    "knn.predict(X_test)"
   ]
  },
  {
   "cell_type": "code",
   "execution_count": null,
   "id": "a826d0e8",
   "metadata": {},
   "outputs": [],
   "source": []
  }
 ],
 "metadata": {
  "kernelspec": {
   "display_name": "Python 3 (ipykernel)",
   "language": "python",
   "name": "python3"
  },
  "language_info": {
   "codemirror_mode": {
    "name": "ipython",
    "version": 3
   },
   "file_extension": ".py",
   "mimetype": "text/x-python",
   "name": "python",
   "nbconvert_exporter": "python",
   "pygments_lexer": "ipython3",
   "version": "3.10.10"
  }
 },
 "nbformat": 4,
 "nbformat_minor": 5
}
