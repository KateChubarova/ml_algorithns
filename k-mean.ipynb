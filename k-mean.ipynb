{
 "cells": [
  {
   "cell_type": "code",
   "execution_count": 2,
   "id": "97622de4",
   "metadata": {},
   "outputs": [],
   "source": [
    "from sklearn.datasets import make_blobs\n",
    "import pandas as pd\n",
    "import numpy as np"
   ]
  },
  {
   "cell_type": "code",
   "execution_count": 3,
   "id": "5b573f8d",
   "metadata": {},
   "outputs": [],
   "source": [
    "X, _ = make_blobs(n_samples=100, centers=5, n_features=5, cluster_std=2.5, random_state=42)\n",
    "X = pd.DataFrame(X)\n",
    "X.columns = [f'col_{col}' for col in X.columns]"
   ]
  },
  {
   "cell_type": "code",
   "execution_count": 430,
   "id": "b4ae8a79",
   "metadata": {},
   "outputs": [],
   "source": [
    "class MyKMeans:\n",
    "    def __init__(self, n_clusters=3, max_iter=10, n_init=3, random_state=42):\n",
    "        self.n_clusters = n_clusters\n",
    "        self.max_iter = max_iter\n",
    "        self.n_init = n_init\n",
    "        self.random_state = random_state\n",
    "        self.cluster_centers_ = None\n",
    "       \n",
    "    def __str__(self):\n",
    "        return f\"MyKMeans class: n_clusters={self.n_clusters}, max_iter={self.max_iter}, n_init={self.n_init}, random_state={self.random_state}\"\n",
    "    \n",
    "    def calculate_WCSS(X, centroids):\n",
    "        wcss = 0\n",
    "        labels = self.calculate_clusters(X)\n",
    "        for i, centroid in enumerate(centroids):\n",
    "            cluster_points = data[labels == i]\n",
    "            distances = np.linalg.norm(cluster_points - centroid, axis=1)\n",
    "            wcss += np.sum(distances ** 2)\n",
    "        return wcss\n",
    "\n",
    "    \n",
    "    def set_centroids(self, X):\n",
    "        min_values = X.min()\n",
    "        max_values = X.max()\n",
    "        \n",
    "        for i in range(self.n_clusters):\n",
    "            x = np.random.uniform(min_values,max_values)\n",
    "            self.cluster_centers_[i] = x\n",
    "            \n",
    "    def calculate_clusters(self, X):\n",
    "        for i, (_, feature) in enumerate(X.iterrows()):\n",
    "            min_distance = 0\n",
    "            for j, center in enumerate(self.cluster_centers_):\n",
    "                distance = np.linalg.norm(feature.values - center)\n",
    "                if min_distance < distance:\n",
    "                    min_distance = distance\n",
    "                    self.nearest_centroids[i] = j           \n",
    "    \n",
    "    def fit(self, X):\n",
    "        np.random.seed(self.random_state)\n",
    "        self.nearest_centroids = np.zeros(len(X))\n",
    "        self.cluster_centers_ = np.zeros((self.n_clusters, X.shape[1]))\n",
    "        self.set_centroids(X)\n",
    "        self.best_clusters = []\n",
    "        \n",
    "        for j in range(self.n_init):\n",
    "            self.set_centroids(X)\n",
    "            for i in range(self.max_iter):\n",
    "                self.calculate_clusters(X)\n",
    "                new_centroids = self.update_centroids(X)\n",
    "                self.cluster_centers_ = new_centroids\n",
    "            self.best_clusters.append(self.cluster_centers_) \n",
    "            \n",
    "        for i in range(len(self.best_clusters)):\n",
    "            wcss = (X, self.best_clusters[i])\n",
    "            print(wcss)\n",
    "                  \n",
    "        \n",
    "    def update_centroids(self, X):\n",
    "        new_centroids = []\n",
    "        for i in range(self.n_clusters):\n",
    "            indexes = np.where(self.nearest_centroids == i)\n",
    "            new_centroids.append(np.mean(X.iloc[indexes[0]].values, axis=0))\n",
    "        return np.array(new_centroids)      "
   ]
  },
  {
   "cell_type": "code",
   "execution_count": 431,
   "id": "6febc8d7",
   "metadata": {},
   "outputs": [],
   "source": [
    "kmeans = MyKMeans(n_clusters=10, max_iter=10, n_init=3)"
   ]
  },
  {
   "cell_type": "code",
   "execution_count": 432,
   "id": "1847aed4",
   "metadata": {},
   "outputs": [
    {
     "name": "stderr",
     "output_type": "stream",
     "text": [
      "/usr/local/Caskroom/miniforge/base/lib/python3.10/site-packages/numpy/core/fromnumeric.py:3464: RuntimeWarning: Mean of empty slice.\n",
      "  return _methods._mean(a, axis=axis, dtype=dtype,\n",
      "/usr/local/Caskroom/miniforge/base/lib/python3.10/site-packages/numpy/core/_methods.py:184: RuntimeWarning: invalid value encountered in divide\n",
      "  ret = um.true_divide(\n"
     ]
    }
   ],
   "source": [
    "kmeans.fit(X)"
   ]
  },
  {
   "cell_type": "code",
   "execution_count": null,
   "id": "3d16f220",
   "metadata": {},
   "outputs": [],
   "source": []
  }
 ],
 "metadata": {
  "kernelspec": {
   "display_name": "Python 3 (ipykernel)",
   "language": "python",
   "name": "python3"
  },
  "language_info": {
   "codemirror_mode": {
    "name": "ipython",
    "version": 3
   },
   "file_extension": ".py",
   "mimetype": "text/x-python",
   "name": "python",
   "nbconvert_exporter": "python",
   "pygments_lexer": "ipython3",
   "version": "3.10.10"
  }
 },
 "nbformat": 4,
 "nbformat_minor": 5
}
