{
 "cells": [
  {
   "cell_type": "code",
   "execution_count": 306,
   "id": "0468d668",
   "metadata": {},
   "outputs": [],
   "source": [
    "import pandas as pd\n",
    "import numpy as np\n",
    "from sklearn.datasets import make_regression, make_classification\n",
    "from sklearn.metrics import roc_auc_score"
   ]
  },
  {
   "cell_type": "code",
   "execution_count": 180,
   "id": "0b7790df",
   "metadata": {},
   "outputs": [],
   "source": [
    "X, y = make_classification(n_samples=1000, n_features=14, n_informative=10, random_state=42)\n",
    "X = pd.DataFrame(X)\n",
    "y = pd.Series(y)\n",
    "X.columns = [f'col_{col}' for col in X.columns]"
   ]
  },
  {
   "cell_type": "code",
   "execution_count": 181,
   "id": "e5936649",
   "metadata": {},
   "outputs": [],
   "source": [
    "def true_positive(y_true, y_pred):\n",
    "    return np.sum((y_true == 1) & (y_pred == 1)) \n",
    "\n",
    "def false_negative(y_true, y_pred):\n",
    "    return np.sum((y_true == 1) & (y_pred == 0))\n",
    "\n",
    "def false_positive(y_true, y_pred):\n",
    "    return np.sum((y_true == 0) & (y_pred == 1))\n",
    "\n",
    "def true_negative(y_true, y_pred):\n",
    "    return np.sum((y_true == 0) & (y_pred == 0))"
   ]
  },
  {
   "cell_type": "code",
   "execution_count": 182,
   "id": "e0ff4925",
   "metadata": {},
   "outputs": [],
   "source": [
    "def accuracy(y_true, y_pred):\n",
    "    tp = true_positive(y_true, y_pred)\n",
    "    tn = true_negative(y_true, y_pred)\n",
    "    return (tp + tn)/len(y_true)"
   ]
  },
  {
   "cell_type": "code",
   "execution_count": 247,
   "id": "f03a6eaa",
   "metadata": {},
   "outputs": [],
   "source": [
    "def precision(y_true, y_pred):\n",
    "    tp = true_positive(y_true, y_pred)\n",
    "    fp = false_positive(y_true, y_pred)\n",
    "    return tp/(tp+fp)"
   ]
  },
  {
   "cell_type": "code",
   "execution_count": 255,
   "id": "ef97cbcf",
   "metadata": {},
   "outputs": [],
   "source": [
    "def recall(y_true, y_pred):\n",
    "    tp = true_positive(y_true, y_pred)\n",
    "    fn = false_negative(y_true, y_pred)\n",
    "    return tp/(tp+fn)"
   ]
  },
  {
   "cell_type": "code",
   "execution_count": 263,
   "id": "4f52186a",
   "metadata": {},
   "outputs": [],
   "source": [
    "def f1(y_true, y_pred):\n",
    "    precision_value = precision(y_true, y_pred)\n",
    "    recall_value = recall(y_true, y_pred)\n",
    "    return (2*precision_value*recall_value)/(precision_value + recall_value)"
   ]
  },
  {
   "cell_type": "code",
   "execution_count": 317,
   "id": "f3cf7b10",
   "metadata": {},
   "outputs": [],
   "source": [
    "class MyLogReg:\n",
    "    def __init__(self, n_iter, learning_rate, metric=None, reg = None, l1_coef=0, l2_coef=0):\n",
    "        self.n_iter = n_iter\n",
    "        self.learning_rate = learning_rate\n",
    "        self.weights = None\n",
    "        self.eps = 1e-15\n",
    "        self.scores = []\n",
    "        self.metric = metric\n",
    "        self.reg = reg\n",
    "        self.l1_coef = l1_coef\n",
    "        self.l2_coef = l2_coef\n",
    "    \n",
    "    def __str__(self):\n",
    "        return f\"MyLogReg class: n_iter={self.n_iter}, learning_rate={self.learning_rate}\"\n",
    "    \n",
    "    def log_loss(self, y, y_pred):\n",
    "        y_pred = y_pred + self.eps\n",
    "        return - np.mean(y * np.log(y_pred) + (1 - y) * np.log(1 - y_pred))\n",
    "    \n",
    "    def l1(self):\n",
    "        return self.l1_coef * np.sign(self.weights) \n",
    "    \n",
    "    def l2(self):\n",
    "        return self.l2_coef * 2*self.weights\n",
    "    \n",
    "    def elasticnet(self):\n",
    "        return self.l1() + self.l2()\n",
    "    \n",
    "    def fit(self, X, y, verbose=False):\n",
    "        n_samples, m_features = X.shape\n",
    "        \n",
    "        self.y = y\n",
    "        self.weights = np.ones(m_features + 1)\n",
    "        self.X = np.hstack((np.ones((n_samples, 1)), X))\n",
    "        \n",
    "        for i in range(self.n_iter):\n",
    "            y_proba = self.predict_proba(self.X)\n",
    "            y_pred = self.predict(self.X)\n",
    "            gradient = np.dot(self.X.T, (y_proba - self.y))/n_samples\n",
    "            \n",
    "            if self.reg == 'l1':\n",
    "                gradient += self.l1()\n",
    "            elif self.reg == 'l2':\n",
    "                gradient += self.l2()\n",
    "            elif self.reg == 'elasticnet':\n",
    "                gradient += self.elasticnet()\n",
    "                \n",
    "            learning_rate = 0.1    \n",
    "            if callable(self.learning_rate):\n",
    "                learning_rate = self.learning_rate(i)\n",
    "            else: \n",
    "                learning_rate = self.learning_rate     \n",
    "            \n",
    "            self.weights -= self.learning_rate * gradient\n",
    "            \n",
    "            if self.metric == 'roc_auc':\n",
    "                loss = roc_auc_score(y, y_proba)\n",
    "                self.scores.append(loss)\n",
    "            \n",
    "            elif self.metric != None: \n",
    "                loss_function = globals()[self.metric]\n",
    "                loss = loss_function(y, y_pred)\n",
    "                self.scores.append(loss)\n",
    "            \n",
    "    def get_coef(self):\n",
    "        return self.weights[1:]\n",
    "    \n",
    "    def predict(self, X):\n",
    "        y_pred = self.predict_proba(X)\n",
    "        return np.where(y_pred >= 0.5, 1, 0)\n",
    "    \n",
    "    def predict_proba(self, X):\n",
    "        xw = -np.dot(X, self.weights)\n",
    "        return 1/(1+np.exp(xw))\n",
    "    \n",
    "    def get_best_score(self):\n",
    "        loss_function = globals()[self.metric]\n",
    "        xw = -np.dot(self.X, self.weights)\n",
    "        y_proba = 1/(1+np.exp(xw))\n",
    "        if self.metric == 'roc_auc':\n",
    "            return roc_auc_score(self.y, y_proba)\n",
    "        elif self.metric != None: \n",
    "            y_pred = np.where(y_proba >= 0.5, 1, 0)\n",
    "            return loss_function(self.y, y_pred)"
   ]
  },
  {
   "cell_type": "code",
   "execution_count": 318,
   "id": "14f2092d",
   "metadata": {},
   "outputs": [],
   "source": [
    "lr = MyLogReg(100, 0.1, metric='roc_auc', reg='l1')"
   ]
  },
  {
   "cell_type": "code",
   "execution_count": 319,
   "id": "b90f58d3",
   "metadata": {},
   "outputs": [],
   "source": [
    "lr.fit(X, y)"
   ]
  },
  {
   "cell_type": "code",
   "execution_count": 316,
   "id": "1510be2c",
   "metadata": {},
   "outputs": [
    {
     "data": {
      "text/plain": [
       "0.5326141304565218"
      ]
     },
     "execution_count": 316,
     "metadata": {},
     "output_type": "execute_result"
    }
   ],
   "source": [
    "lr.get_best_score()"
   ]
  },
  {
   "cell_type": "code",
   "execution_count": null,
   "id": "e2d4da99",
   "metadata": {},
   "outputs": [],
   "source": []
  },
  {
   "cell_type": "code",
   "execution_count": null,
   "id": "881aa9f8",
   "metadata": {},
   "outputs": [],
   "source": []
  }
 ],
 "metadata": {
  "kernelspec": {
   "display_name": "Python 3 (ipykernel)",
   "language": "python",
   "name": "python3"
  },
  "language_info": {
   "codemirror_mode": {
    "name": "ipython",
    "version": 3
   },
   "file_extension": ".py",
   "mimetype": "text/x-python",
   "name": "python",
   "nbconvert_exporter": "python",
   "pygments_lexer": "ipython3",
   "version": "3.10.10"
  }
 },
 "nbformat": 4,
 "nbformat_minor": 5
}
