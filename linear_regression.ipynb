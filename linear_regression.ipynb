{
 "cells": [
  {
   "cell_type": "code",
   "execution_count": 1,
   "id": "946e1804",
   "metadata": {},
   "outputs": [],
   "source": [
    "import pandas as pd\n",
    "import numpy as np\n",
    "from sklearn.datasets import make_regression\n",
    "import random"
   ]
  },
  {
   "cell_type": "code",
   "execution_count": 2,
   "id": "19c8678f",
   "metadata": {},
   "outputs": [],
   "source": [
    "X, y = make_regression(n_samples=1000, n_features=14, n_informative=10, noise=15, random_state=42)\n",
    "X = pd.DataFrame(X)\n",
    "y = pd.Series(y)\n",
    "X.columns = [f'col_{col}' for col in X.columns]"
   ]
  },
  {
   "cell_type": "code",
   "execution_count": 3,
   "id": "74a0d2ff",
   "metadata": {},
   "outputs": [],
   "source": [
    "def mse(y, y_pred):\n",
    "    return np.mean((y - y_pred) ** 2)    "
   ]
  },
  {
   "cell_type": "code",
   "execution_count": 4,
   "id": "6277e7b1",
   "metadata": {},
   "outputs": [],
   "source": [
    "def mae(y, y_pred):\n",
    "    return np.mean(abs(y - y_pred))"
   ]
  },
  {
   "cell_type": "code",
   "execution_count": 5,
   "id": "a2d4bb9b",
   "metadata": {},
   "outputs": [],
   "source": [
    "def rmse(y, y_pred):\n",
    "    return np.sqrt(mse(y, y_pred))"
   ]
  },
  {
   "cell_type": "code",
   "execution_count": 6,
   "id": "ac31ea67",
   "metadata": {},
   "outputs": [],
   "source": [
    "def r2(y, y_pred):\n",
    "    mean_y = np.mean(y)\n",
    "    return 1 - np.sum((y-y_pred)**2)/np.sum((y-mean_y)**2)"
   ]
  },
  {
   "cell_type": "code",
   "execution_count": 7,
   "id": "944b64b3",
   "metadata": {},
   "outputs": [],
   "source": [
    "def mape(y, y_pred):\n",
    "    return 100 * np.mean(abs((y-y_pred)/y))"
   ]
  },
  {
   "cell_type": "code",
   "execution_count": 103,
   "id": "cd10809a",
   "metadata": {},
   "outputs": [],
   "source": [
    "class MyLineReg:\n",
    "    def __init__(self, n_iter, learning_rate, metric = None, reg = None, l1_coef=0, l2_coef=0, random_state=42):\n",
    "        self.n_iter = n_iter\n",
    "        self.learning_rate = learning_rate\n",
    "        self.weights = None\n",
    "        self.metric = metric\n",
    "        self.reg = reg\n",
    "        self.l1_coef = l1_coef\n",
    "        self.l2_coef = l2_coef\n",
    "        self.sgd_sample = sgd_sample\n",
    "        self.random_state = random_state\n",
    "        \n",
    "        self.scores = []\n",
    "\n",
    "    def __str__(self):\n",
    "        return f\"MyLineReg class: n_iter={self.n_iter}, learning_rate={self.learning_rate}\"\n",
    "    \n",
    "    def l1(self):\n",
    "        return self.l1_coef * np.sign(self.weights) \n",
    "    \n",
    "    def l2(self):\n",
    "        return self.l2_coef * 2*self.weights\n",
    "    \n",
    "    def elasticnet(self):\n",
    "        return self.l1() + self.l2()\n",
    "    \n",
    "    def get_idx(self):\n",
    "        return random.sample(range(self.X.shape[0]), self.sgd_sample)\n",
    "\n",
    "    def fit(self, X, y, verbose=False):\n",
    "        random.seed(self.random_state)\n",
    "        n_samples, m_features = X.shape\n",
    "        \n",
    "        self.y = y\n",
    "        self.X = np.hstack((np.ones((n_samples, 1)), X))\n",
    "        self.weights = np.ones(m_features + 1)\n",
    "        \n",
    "        \n",
    "        for i in range(self.n_iter):\n",
    "            y_pred = np.dot(self.X, self.weights)\n",
    "            \n",
    "            if self.metric != None: \n",
    "                loss_function = globals()[self.metric]\n",
    "                loss = loss_function(y, y_pred)\n",
    "                self.scores.append(loss)\n",
    "                \n",
    "            gradient = (2 / n_samples) * np.dot(self.X.T, (y_pred - y))\n",
    "            \n",
    "            if self.reg == 'l1':\n",
    "                gradient += self.l1()\n",
    "            elif self.reg == 'l2':\n",
    "                gradient += self.l2()\n",
    "            elif self.reg == 'elasticnet':\n",
    "                gradient += self.elasticnet()\n",
    "                \n",
    "            learning_rate = 0.1    \n",
    "            if callable(self.learning_rate):\n",
    "                learning_rate = self.learning_rate(i)\n",
    "            else: \n",
    "                learning_rate = self.learning_rate    \n",
    "                \n",
    "            self.weights -= learning_rate * gradient\n",
    "            \n",
    "    def predict(self, X):\n",
    "        return np.dot(X, self.weights)\n",
    "            \n",
    "    def get_coef(self):\n",
    "        return self.weights[1:]\n",
    "    \n",
    "    def get_best_score(self):\n",
    "        loss_function = globals()[self.metric]\n",
    "        y_pred = np.dot(self.X, self.weights)   \n",
    "        return loss_function(self.y, y_pred)"
   ]
  },
  {
   "cell_type": "code",
   "execution_count": 104,
   "id": "527590f8",
   "metadata": {},
   "outputs": [
    {
     "data": {
      "text/plain": [
       "(1000, 14)"
      ]
     },
     "execution_count": 104,
     "metadata": {},
     "output_type": "execute_result"
    }
   ],
   "source": [
    "X.shape"
   ]
  },
  {
   "cell_type": "code",
   "execution_count": 105,
   "id": "731317a4",
   "metadata": {},
   "outputs": [],
   "source": [
    "learning_rate = lambda iter: 0.5 * (0.85 ** iter)"
   ]
  },
  {
   "cell_type": "code",
   "execution_count": 106,
   "id": "f3244a26",
   "metadata": {},
   "outputs": [],
   "source": [
    "lr = MyLineReg(50, learning_rate)"
   ]
  },
  {
   "cell_type": "code",
   "execution_count": 107,
   "id": "77d43ec7",
   "metadata": {},
   "outputs": [],
   "source": [
    "lr.fit(X, y)"
   ]
  },
  {
   "cell_type": "code",
   "execution_count": 108,
   "id": "d2094c8a",
   "metadata": {},
   "outputs": [
    {
     "data": {
      "text/plain": [
       "30.550000309795404"
      ]
     },
     "execution_count": 108,
     "metadata": {},
     "output_type": "execute_result"
    }
   ],
   "source": [
    "lr.get_coef().mean()"
   ]
  },
  {
   "cell_type": "code",
   "execution_count": null,
   "id": "9cd5397a",
   "metadata": {},
   "outputs": [],
   "source": []
  }
 ],
 "metadata": {
  "kernelspec": {
   "display_name": "Python 3 (ipykernel)",
   "language": "python",
   "name": "python3"
  },
  "language_info": {
   "codemirror_mode": {
    "name": "ipython",
    "version": 3
   },
   "file_extension": ".py",
   "mimetype": "text/x-python",
   "name": "python",
   "nbconvert_exporter": "python",
   "pygments_lexer": "ipython3",
   "version": "3.10.10"
  }
 },
 "nbformat": 4,
 "nbformat_minor": 5
}
