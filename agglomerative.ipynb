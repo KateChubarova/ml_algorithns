{
 "cells": [
  {
   "cell_type": "code",
   "execution_count": null,
   "id": "7eca2082",
   "metadata": {},
   "outputs": [],
   "source": [
    "class MyAgglomerative:\n",
    "    \n",
    "    def __init__(self, n_clusters):\n",
    "        self.n_clusters = n_clusters\n",
    "    \n",
    "    def __str__(self):\n",
    "        return f\"MyAgglomerative class: n_clusters={self.n_clusters}\""
   ]
  }
 ],
 "metadata": {
  "kernelspec": {
   "display_name": "Python 3 (ipykernel)",
   "language": "python",
   "name": "python3"
  },
  "language_info": {
   "codemirror_mode": {
    "name": "ipython",
    "version": 3
   },
   "file_extension": ".py",
   "mimetype": "text/x-python",
   "name": "python",
   "nbconvert_exporter": "python",
   "pygments_lexer": "ipython3",
   "version": "3.10.10"
  }
 },
 "nbformat": 4,
 "nbformat_minor": 5
}
